{
 "cells": [
  {
   "cell_type": "code",
   "execution_count": 9,
   "metadata": {},
   "outputs": [],
   "source": [
    "import pandas as pd\n",
    "import numpy as np\n",
    "import scipy.stats as stats"
   ]
  },
  {
   "cell_type": "markdown",
   "metadata": {},
   "source": [
    "### 1. A physician is evaluating a new diet for her patients with a family history of heart disease. To test the effectiveness of this diet, 16 patients are placed on the diet for 6 months. Their weights and triglyceride levels are measured before and after the study, and the physician wants to know if either set of measurements has changed. (Data set: dietstudy.csv)"
   ]
  },
  {
   "cell_type": "code",
   "execution_count": 8,
   "metadata": {},
   "outputs": [
    {
     "data": {
      "text/html": [
       "<div>\n",
       "<style scoped>\n",
       "    .dataframe tbody tr th:only-of-type {\n",
       "        vertical-align: middle;\n",
       "    }\n",
       "\n",
       "    .dataframe tbody tr th {\n",
       "        vertical-align: top;\n",
       "    }\n",
       "\n",
       "    .dataframe thead th {\n",
       "        text-align: right;\n",
       "    }\n",
       "</style>\n",
       "<table border=\"1\" class=\"dataframe\">\n",
       "  <thead>\n",
       "    <tr style=\"text-align: right;\">\n",
       "      <th></th>\n",
       "      <th>patid</th>\n",
       "      <th>age</th>\n",
       "      <th>gender</th>\n",
       "      <th>tg0</th>\n",
       "      <th>tg1</th>\n",
       "      <th>tg2</th>\n",
       "      <th>tg3</th>\n",
       "      <th>tg4</th>\n",
       "      <th>wgt0</th>\n",
       "      <th>wgt1</th>\n",
       "      <th>wgt2</th>\n",
       "      <th>wgt3</th>\n",
       "      <th>wgt4</th>\n",
       "    </tr>\n",
       "  </thead>\n",
       "  <tbody>\n",
       "    <tr>\n",
       "      <td>0</td>\n",
       "      <td>1</td>\n",
       "      <td>45</td>\n",
       "      <td>Male</td>\n",
       "      <td>180</td>\n",
       "      <td>148</td>\n",
       "      <td>106</td>\n",
       "      <td>113</td>\n",
       "      <td>100</td>\n",
       "      <td>198</td>\n",
       "      <td>196</td>\n",
       "      <td>193</td>\n",
       "      <td>188</td>\n",
       "      <td>192</td>\n",
       "    </tr>\n",
       "    <tr>\n",
       "      <td>1</td>\n",
       "      <td>2</td>\n",
       "      <td>56</td>\n",
       "      <td>Male</td>\n",
       "      <td>139</td>\n",
       "      <td>94</td>\n",
       "      <td>119</td>\n",
       "      <td>75</td>\n",
       "      <td>92</td>\n",
       "      <td>237</td>\n",
       "      <td>233</td>\n",
       "      <td>232</td>\n",
       "      <td>228</td>\n",
       "      <td>225</td>\n",
       "    </tr>\n",
       "    <tr>\n",
       "      <td>2</td>\n",
       "      <td>3</td>\n",
       "      <td>50</td>\n",
       "      <td>Male</td>\n",
       "      <td>152</td>\n",
       "      <td>185</td>\n",
       "      <td>86</td>\n",
       "      <td>149</td>\n",
       "      <td>118</td>\n",
       "      <td>233</td>\n",
       "      <td>231</td>\n",
       "      <td>229</td>\n",
       "      <td>228</td>\n",
       "      <td>226</td>\n",
       "    </tr>\n",
       "    <tr>\n",
       "      <td>3</td>\n",
       "      <td>4</td>\n",
       "      <td>46</td>\n",
       "      <td>Female</td>\n",
       "      <td>112</td>\n",
       "      <td>145</td>\n",
       "      <td>136</td>\n",
       "      <td>149</td>\n",
       "      <td>82</td>\n",
       "      <td>179</td>\n",
       "      <td>181</td>\n",
       "      <td>177</td>\n",
       "      <td>174</td>\n",
       "      <td>172</td>\n",
       "    </tr>\n",
       "    <tr>\n",
       "      <td>4</td>\n",
       "      <td>5</td>\n",
       "      <td>64</td>\n",
       "      <td>Male</td>\n",
       "      <td>156</td>\n",
       "      <td>104</td>\n",
       "      <td>157</td>\n",
       "      <td>79</td>\n",
       "      <td>97</td>\n",
       "      <td>219</td>\n",
       "      <td>217</td>\n",
       "      <td>215</td>\n",
       "      <td>213</td>\n",
       "      <td>214</td>\n",
       "    </tr>\n",
       "  </tbody>\n",
       "</table>\n",
       "</div>"
      ],
      "text/plain": [
       "   patid  age  gender  tg0  tg1  tg2  tg3  tg4  wgt0  wgt1  wgt2  wgt3  wgt4\n",
       "0      1   45    Male  180  148  106  113  100   198   196   193   188   192\n",
       "1      2   56    Male  139   94  119   75   92   237   233   232   228   225\n",
       "2      3   50    Male  152  185   86  149  118   233   231   229   228   226\n",
       "3      4   46  Female  112  145  136  149   82   179   181   177   174   172\n",
       "4      5   64    Male  156  104  157   79   97   219   217   215   213   214"
      ]
     },
     "execution_count": 8,
     "metadata": {},
     "output_type": "execute_result"
    }
   ],
   "source": [
    "diet = pd.read_csv('C:/Python/Class/Exercise/Exercise/7. Basic Stats - Case Study-1/dietstudy.csv')\n",
    "diet.head()"
   ]
  },
  {
   "cell_type": "markdown",
   "metadata": {},
   "source": [
    "Parameters taken into considerations for weights are initial weight(wgt0) and final weight which is weight after 6 months(wgt4).\n",
    "Parameters taken into considerations for triglyceride levels are initial triglyceride level(tg0) \n",
    "and final triglyceride level which is weight after 6 months(tg4)."
   ]
  },
  {
   "cell_type": "code",
   "execution_count": 41,
   "metadata": {},
   "outputs": [
    {
     "name": "stdout",
     "output_type": "stream",
     "text": [
      "The triglyceride levels of patients were 138.4375\n",
      "The final triglyceride levels of patients are 124.375\n",
      "The weights of patients were 198.375\n",
      "The final weights of patients are 190.3125\n"
     ]
    }
   ],
   "source": [
    "print(\"The triglyceride levels of patients were {}\".format(diet.tg0.mean()))\n",
    "print(\"The final triglyceride levels of patients are {}\".format(diet.tg4.mean()))\n",
    "print(\"The weights of patients were {}\".format(diet.wgt0.mean()))\n",
    "print(\"The final weights of patients are {}\".format(diet.wgt4.mean()))"
   ]
  },
  {
   "cell_type": "markdown",
   "metadata": {},
   "source": [
    "### Define the Hypothesis:\n",
    "####  Stage 1 (For triglyceride levels):\n",
    "  **Ho**: initial triglyceride level(tg0) == final triglyceride level(tg4) \n",
    "  **Ha**: initial triglyceride level(tg0) <> final triglyceride level(tg4)\n",
    "        \n",
    "####  Stage 2 (For weights):\n",
    "  **Ho**: initial weight(wgt0) == final weight(wgt4) \n",
    "  **Ha**: initial weight(wgt0) <> final weight(wgt4) "
   ]
  },
  {
   "cell_type": "markdown",
   "metadata": {},
   "source": [
    "Since we have to 2 compare 2 continuous variable of 2 stage we will use 2 sample T- test."
   ]
  },
  {
   "cell_type": "code",
   "execution_count": 13,
   "metadata": {},
   "outputs": [],
   "source": [
    "# Stage 1 (For triglyceride levels):\n",
    "tg = stats.ttest_rel(a=diet.tg0,b=diet.tg4)  "
   ]
  },
  {
   "cell_type": "code",
   "execution_count": 14,
   "metadata": {},
   "outputs": [
    {
     "data": {
      "text/plain": [
       "0.24874946576903698"
      ]
     },
     "execution_count": 14,
     "metadata": {},
     "output_type": "execute_result"
    }
   ],
   "source": [
    "tg.pvalue"
   ]
  },
  {
   "cell_type": "code",
   "execution_count": 15,
   "metadata": {},
   "outputs": [
    {
     "data": {
      "text/plain": [
       "True"
      ]
     },
     "execution_count": 15,
     "metadata": {},
     "output_type": "execute_result"
    }
   ],
   "source": [
    "tg.pvalue > 0.05\n",
    "\n",
    "# Since p value is > 0.05, we fail to reject NULL Hypothesis"
   ]
  },
  {
   "cell_type": "code",
   "execution_count": 16,
   "metadata": {},
   "outputs": [],
   "source": [
    "# Stage 2 (For weights):\n",
    "wt = stats.ttest_rel(a=diet.wgt0,b=diet.wgt4)"
   ]
  },
  {
   "cell_type": "code",
   "execution_count": 17,
   "metadata": {},
   "outputs": [
    {
     "data": {
      "text/plain": [
       "1.137689414996614e-08"
      ]
     },
     "execution_count": 17,
     "metadata": {},
     "output_type": "execute_result"
    }
   ],
   "source": [
    "wt.pvalue"
   ]
  },
  {
   "cell_type": "code",
   "execution_count": 18,
   "metadata": {},
   "outputs": [
    {
     "data": {
      "text/plain": [
       "False"
      ]
     },
     "execution_count": 18,
     "metadata": {},
     "output_type": "execute_result"
    }
   ],
   "source": [
    "wt.pvalue > 0.05\n",
    "\n",
    "# Since p value is < 0.05, we reject NULL Hypothesis"
   ]
  },
  {
   "cell_type": "markdown",
   "metadata": {},
   "source": [
    "Conclusion : \n",
    "    \n",
    "    Change in triglyceride levels, before and after diet is due to diet.\n",
    "    In terms of Weights, the measurement before and after new diet is changed due to diet."
   ]
  },
  {
   "cell_type": "markdown",
   "metadata": {},
   "source": [
    "### 2. An analyst at a department store wants to evaluate a recent credit card promotion. To this end, 500 cardholders were randomly selected. Half received an ad promoting a reduced interest rate on purchases made over the next three months, and half received a standard seasonal ad. Is the promotion effective to increase sales? (Data set: creditpromo.csv)"
   ]
  },
  {
   "cell_type": "code",
   "execution_count": 19,
   "metadata": {},
   "outputs": [
    {
     "data": {
      "text/html": [
       "<div>\n",
       "<style scoped>\n",
       "    .dataframe tbody tr th:only-of-type {\n",
       "        vertical-align: middle;\n",
       "    }\n",
       "\n",
       "    .dataframe tbody tr th {\n",
       "        vertical-align: top;\n",
       "    }\n",
       "\n",
       "    .dataframe thead th {\n",
       "        text-align: right;\n",
       "    }\n",
       "</style>\n",
       "<table border=\"1\" class=\"dataframe\">\n",
       "  <thead>\n",
       "    <tr style=\"text-align: right;\">\n",
       "      <th></th>\n",
       "      <th>id</th>\n",
       "      <th>insert</th>\n",
       "      <th>dollars</th>\n",
       "    </tr>\n",
       "  </thead>\n",
       "  <tbody>\n",
       "    <tr>\n",
       "      <td>0</td>\n",
       "      <td>148</td>\n",
       "      <td>Standard</td>\n",
       "      <td>2232.771979</td>\n",
       "    </tr>\n",
       "    <tr>\n",
       "      <td>1</td>\n",
       "      <td>572</td>\n",
       "      <td>New Promotion</td>\n",
       "      <td>1403.807542</td>\n",
       "    </tr>\n",
       "    <tr>\n",
       "      <td>2</td>\n",
       "      <td>973</td>\n",
       "      <td>Standard</td>\n",
       "      <td>2327.092181</td>\n",
       "    </tr>\n",
       "    <tr>\n",
       "      <td>3</td>\n",
       "      <td>1096</td>\n",
       "      <td>Standard</td>\n",
       "      <td>1280.030541</td>\n",
       "    </tr>\n",
       "    <tr>\n",
       "      <td>4</td>\n",
       "      <td>1541</td>\n",
       "      <td>New Promotion</td>\n",
       "      <td>1513.563200</td>\n",
       "    </tr>\n",
       "  </tbody>\n",
       "</table>\n",
       "</div>"
      ],
      "text/plain": [
       "     id         insert      dollars\n",
       "0   148       Standard  2232.771979\n",
       "1   572  New Promotion  1403.807542\n",
       "2   973       Standard  2327.092181\n",
       "3  1096       Standard  1280.030541\n",
       "4  1541  New Promotion  1513.563200"
      ]
     },
     "execution_count": 19,
     "metadata": {},
     "output_type": "execute_result"
    }
   ],
   "source": [
    "credit = pd.read_csv('C:/Python/Class/Exercise/Exercise/7. Basic Stats - Case Study-1/creditpromo.csv')\n",
    "credit.head()"
   ]
  },
  {
   "cell_type": "code",
   "execution_count": 24,
   "metadata": {},
   "outputs": [],
   "source": [
    "standard = credit[credit['insert'] == 'Standard']['dollars']\n",
    "newPromotion = credit[credit['insert'] == 'New Promotion']['dollars']"
   ]
  },
  {
   "cell_type": "code",
   "execution_count": 33,
   "metadata": {},
   "outputs": [
    {
     "name": "stdout",
     "output_type": "stream",
     "text": [
      "The average spent by the normal standard seasonal ad is $1566.3890309659348\n",
      "The average spent by the normal ad is $1637.4999830647992\n"
     ]
    }
   ],
   "source": [
    "print(\"The average spent by the normal standard seasonal ad is ${}\".format(standard.mean()))\n",
    "\n",
    "print(\"The average spent by the normal ad is ${}\".format(newPromotion.mean()))"
   ]
  },
  {
   "cell_type": "markdown",
   "metadata": {},
   "source": [
    "#### Step 1 : Define the null and alt hypothesis\n",
    "**H0** : Sales Because of Promotion == Sales Beacuase of Seasonal Ad \n",
    "**H1** : Sales Because of Promotion > Sales Because of Seasonal Ad"
   ]
  },
  {
   "cell_type": "markdown",
   "metadata": {},
   "source": [
    "insert - binomial categorical valiable(has 2 values)\n",
    "dollars - continuous variable\n",
    "\n",
    "Stats Method : t-test (Independent Sample T test). We are using T-test because we have 2 sample and as insert is binary categorical variable we will be considering this T-Test as independent T -Test.\n",
    "Also test will have 2 assumption.\n",
    "1) Standard and New Promotion have equal variance\n",
    "2) Standard and New Promotion have different variance\n",
    "\n",
    "If T value from both the test comes same we will consider both Standard and New Promotion ad have same variance else will consider the result are from different variance."
   ]
  },
  {
   "cell_type": "code",
   "execution_count": 27,
   "metadata": {},
   "outputs": [
    {
     "data": {
      "text/plain": [
       "-2.2604227264649963"
      ]
     },
     "execution_count": 27,
     "metadata": {},
     "output_type": "execute_result"
    }
   ],
   "source": [
    "#equal variance\n",
    "eq_var = stats.ttest_ind(a= standard, b= newPromotion, equal_var=True)\n",
    "eq_var.statistic # fetch T value"
   ]
  },
  {
   "cell_type": "code",
   "execution_count": 30,
   "metadata": {},
   "outputs": [
    {
     "data": {
      "text/plain": [
       "-2.260422726464996"
      ]
     },
     "execution_count": 30,
     "metadata": {},
     "output_type": "execute_result"
    }
   ],
   "source": [
    "#unequal variance\n",
    "uneq_var = stats.ttest_ind(a= standard, b= newPromotion, equal_var=False)\n",
    "uneq_var.statistic # fetch T value"
   ]
  },
  {
   "cell_type": "code",
   "execution_count": 31,
   "metadata": {},
   "outputs": [
    {
     "data": {
      "text/plain": [
       "4.440892098500626e-16"
      ]
     },
     "execution_count": 31,
     "metadata": {},
     "output_type": "execute_result"
    }
   ],
   "source": [
    "# We'll cosider equal variance since the t score is not having a huge difference\n",
    "uneq_var.statistic - eq_var.statistic"
   ]
  },
  {
   "cell_type": "code",
   "execution_count": 32,
   "metadata": {},
   "outputs": [
    {
     "data": {
      "text/plain": [
       "False"
      ]
     },
     "execution_count": 32,
     "metadata": {},
     "output_type": "execute_result"
    }
   ],
   "source": [
    "# Step 4: Since p_vale is less than 0.05,we reject the NULL hypothesis\n",
    "eq_var.pvalue > 0.05"
   ]
  },
  {
   "cell_type": "markdown",
   "metadata": {},
   "source": [
    "Conclusion: Since the significance value of the test is less than 0.05, we can conclude that promotional ad was effective to increase sales."
   ]
  },
  {
   "cell_type": "markdown",
   "metadata": {},
   "source": [
    "### 3. An experiment is conducted to study the hybrid seed production of bottle gourd under open field conditions. The main aim of the investigation is to compare natural pollination and hand pollination. The data are collected on 10 randomly selected plants from each of natural pollination and hand pollination. The data are collected on fruit weight (kg), seed yield/plant (g) and seedling length (cm). (Data set: pollination.csv)\n",
    "### a. Is the overall population of Seed yield/plant (g) equals to 200?"
   ]
  },
  {
   "cell_type": "code",
   "execution_count": 35,
   "metadata": {},
   "outputs": [
    {
     "data": {
      "text/html": [
       "<div>\n",
       "<style scoped>\n",
       "    .dataframe tbody tr th:only-of-type {\n",
       "        vertical-align: middle;\n",
       "    }\n",
       "\n",
       "    .dataframe tbody tr th {\n",
       "        vertical-align: top;\n",
       "    }\n",
       "\n",
       "    .dataframe thead th {\n",
       "        text-align: right;\n",
       "    }\n",
       "</style>\n",
       "<table border=\"1\" class=\"dataframe\">\n",
       "  <thead>\n",
       "    <tr style=\"text-align: right;\">\n",
       "      <th></th>\n",
       "      <th>Group</th>\n",
       "      <th>Fruit_Wt</th>\n",
       "      <th>Seed_Yield_Plant</th>\n",
       "      <th>Seedling_length</th>\n",
       "    </tr>\n",
       "  </thead>\n",
       "  <tbody>\n",
       "    <tr>\n",
       "      <td>0</td>\n",
       "      <td>Natural</td>\n",
       "      <td>1.85</td>\n",
       "      <td>147.70</td>\n",
       "      <td>16.86</td>\n",
       "    </tr>\n",
       "    <tr>\n",
       "      <td>1</td>\n",
       "      <td>Natural</td>\n",
       "      <td>1.86</td>\n",
       "      <td>136.86</td>\n",
       "      <td>16.77</td>\n",
       "    </tr>\n",
       "    <tr>\n",
       "      <td>2</td>\n",
       "      <td>Natural</td>\n",
       "      <td>1.83</td>\n",
       "      <td>149.97</td>\n",
       "      <td>16.35</td>\n",
       "    </tr>\n",
       "    <tr>\n",
       "      <td>3</td>\n",
       "      <td>Natural</td>\n",
       "      <td>1.89</td>\n",
       "      <td>172.33</td>\n",
       "      <td>18.26</td>\n",
       "    </tr>\n",
       "    <tr>\n",
       "      <td>4</td>\n",
       "      <td>Natural</td>\n",
       "      <td>1.80</td>\n",
       "      <td>144.46</td>\n",
       "      <td>17.90</td>\n",
       "    </tr>\n",
       "  </tbody>\n",
       "</table>\n",
       "</div>"
      ],
      "text/plain": [
       "     Group  Fruit_Wt  Seed_Yield_Plant  Seedling_length\n",
       "0  Natural      1.85            147.70            16.86\n",
       "1  Natural      1.86            136.86            16.77\n",
       "2  Natural      1.83            149.97            16.35\n",
       "3  Natural      1.89            172.33            18.26\n",
       "4  Natural      1.80            144.46            17.90"
      ]
     },
     "execution_count": 35,
     "metadata": {},
     "output_type": "execute_result"
    }
   ],
   "source": [
    "pollination = pd.read_csv('C:/Python/Class/Exercise/Exercise/7. Basic Stats - Case Study-1/pollination.csv')\n",
    "pollination.head()"
   ]
  },
  {
   "cell_type": "markdown",
   "metadata": {},
   "source": [
    "Define the hypothesis: \n",
    "    **Ho**: seed yield/plant == 200 \n",
    "    **Ha**: seed yield/plant <> 200\n",
    " \n",
    "Since, we are comparing Seed yield/plant with a value provided, so statistical method used is One Sample T-Test"
   ]
  },
  {
   "cell_type": "code",
   "execution_count": 37,
   "metadata": {},
   "outputs": [
    {
     "name": "stdout",
     "output_type": "stream",
     "text": [
      "The p value is 9.350752673732562e-34 and the T Score is -218.05\n"
     ]
    }
   ],
   "source": [
    "# one sample t-test\n",
    "test = stats.ttest_1samp(a=pollination.Seed_Yield_Plant,popmean=2000)\n",
    "\n",
    "t_score = round(test.statistic,2)\n",
    "p_value = test.pvalue\n",
    "\n",
    "# CI : 0.95 or 95%\n",
    "# alpha = 0.05\n",
    "# if p value < alpha then rject NULL and \n",
    "# if it is >= alpha, we fail to reject NULL\n",
    "\n",
    "print(\"The p value is {} and the T Score is {}\".format(p_value,t_score))"
   ]
  },
  {
   "cell_type": "code",
   "execution_count": 39,
   "metadata": {},
   "outputs": [
    {
     "data": {
      "text/plain": [
       "False"
      ]
     },
     "execution_count": 39,
     "metadata": {},
     "output_type": "execute_result"
    }
   ],
   "source": [
    "p_value > 0.05\n",
    "\n",
    "# Since the significance value of the test is less than 0.05, we reject the null hypothesis."
   ]
  },
  {
   "cell_type": "markdown",
   "metadata": {},
   "source": [
    "Conclusion: Overall population of Seed yield/plant (g) is not equals to 200."
   ]
  },
  {
   "cell_type": "markdown",
   "metadata": {},
   "source": [
    "### b. Test whether the natural pollination and hand pollination under open field conditions are equally effective or are significantly different."
   ]
  },
  {
   "cell_type": "code",
   "execution_count": 40,
   "metadata": {},
   "outputs": [],
   "source": [
    "# Parameters taken into consideration are fruit weight (kg), seed yield/plant (g) and seedling length (cm) of \n",
    "# natural pollination and hand pollination.\n",
    "\n",
    "natural = pollination[pollination['Group']=='Natural']\n",
    "hand = pollination[pollination['Group']=='Hand']"
   ]
  },
  {
   "cell_type": "raw",
   "metadata": {},
   "source": [
    "Describe the hypothesis: \n",
    "    Ho: natural pollination fruit weight == hand pollination fruit weight \n",
    "        natural pollination seed yield/plant == hand pollination seed yield/plant \n",
    "        natural pollination seedling length == hand pollination seedling length \n",
    "    Ha: natural pollination fruit weight <> hand pollination fruit weight \n",
    "        natural pollination seed yield/plant <> hand pollination seed yield/plant \n",
    "        natural pollination seedling length <> hand pollination seedling length"
   ]
  },
  {
   "cell_type": "markdown",
   "metadata": {},
   "source": [
    "### 4. An electronics firm is developing a new DVD player in response to customer requests. Using a prototype, the marketing team has collected focus data for different age groups viz. Under 25; 25-34; 35-44; 45-54; 55-64; 65 and above. Do you think that consumers of various ages rated the design differently? (Data set: dvdplayer.csv)."
   ]
  },
  {
   "cell_type": "code",
   "execution_count": 52,
   "metadata": {},
   "outputs": [
    {
     "data": {
      "text/html": [
       "<div>\n",
       "<style scoped>\n",
       "    .dataframe tbody tr th:only-of-type {\n",
       "        vertical-align: middle;\n",
       "    }\n",
       "\n",
       "    .dataframe tbody tr th {\n",
       "        vertical-align: top;\n",
       "    }\n",
       "\n",
       "    .dataframe thead th {\n",
       "        text-align: right;\n",
       "    }\n",
       "</style>\n",
       "<table border=\"1\" class=\"dataframe\">\n",
       "  <thead>\n",
       "    <tr style=\"text-align: right;\">\n",
       "      <th></th>\n",
       "      <th>agegroup</th>\n",
       "      <th>dvdscore</th>\n",
       "    </tr>\n",
       "  </thead>\n",
       "  <tbody>\n",
       "    <tr>\n",
       "      <td>0</td>\n",
       "      <td>65 and over</td>\n",
       "      <td>38.454803</td>\n",
       "    </tr>\n",
       "    <tr>\n",
       "      <td>1</td>\n",
       "      <td>55-64</td>\n",
       "      <td>17.669677</td>\n",
       "    </tr>\n",
       "    <tr>\n",
       "      <td>2</td>\n",
       "      <td>65 and over</td>\n",
       "      <td>31.704307</td>\n",
       "    </tr>\n",
       "    <tr>\n",
       "      <td>3</td>\n",
       "      <td>65 and over</td>\n",
       "      <td>25.924460</td>\n",
       "    </tr>\n",
       "    <tr>\n",
       "      <td>4</td>\n",
       "      <td>Under 25</td>\n",
       "      <td>30.450007</td>\n",
       "    </tr>\n",
       "  </tbody>\n",
       "</table>\n",
       "</div>"
      ],
      "text/plain": [
       "      agegroup   dvdscore\n",
       "0  65 and over  38.454803\n",
       "1        55-64  17.669677\n",
       "2  65 and over  31.704307\n",
       "3  65 and over  25.924460\n",
       "4     Under 25  30.450007"
      ]
     },
     "execution_count": 52,
     "metadata": {},
     "output_type": "execute_result"
    }
   ],
   "source": [
    "dvd = pd.read_csv('C:/Python/Class/Exercise/Exercise/7. Basic Stats - Case Study-1/dvdplayer.csv')\n",
    "dvd.head()"
   ]
  },
  {
   "cell_type": "raw",
   "metadata": {},
   "source": [
    "Define the hypothesis:- \n",
    "    Ho: people Under 25 dvdscore == people 25-34 dvdscore == people 35-44 dvdscore == people 45-54 dvdscore == people 55-64             dvdscore == people 64 above dvdscore \n",
    "    Ha: people Under 25 dvdscore <> people 25-34 dvdscore <> people 35-44 dvdscore <> people 45-54 dvdscore <> people 55-64             dvdscore <> people 64 above dvdscore \n",
    "    \n",
    "    \n",
    "agegroup(Under 25; 25-34; 35-44; 45-54; 55-64; 65 and above) - categorical variable\n",
    "dvdscore - continouus var \n",
    " \n",
    "# Since we have 3 samples of categorical value, we will be using Annova statistical method"
   ]
  },
  {
   "cell_type": "code",
   "execution_count": 58,
   "metadata": {},
   "outputs": [],
   "source": [
    "grp1 = dvd[dvd['agegroup']== 'Under 25']['dvdscore']\n",
    "grp2 = dvd[dvd['agegroup']== '25-34']['dvdscore']\n",
    "grp3 = dvd[dvd['agegroup']== '35-44']['dvdscore']\n",
    "grp4 = dvd[dvd['agegroup']== '45-54']['dvdscore']\n",
    "grp5 = dvd[dvd['agegroup']== '55-64']['dvdscore']\n",
    "grp6 = dvd[dvd['agegroup']== '65 and over']['dvdscore']"
   ]
  },
  {
   "cell_type": "code",
   "execution_count": 59,
   "metadata": {},
   "outputs": [
    {
     "name": "stdout",
     "output_type": "stream",
     "text": [
      "The f-value is 6.992526962676518 and the p value is 3.087324905679639e-05\n"
     ]
    }
   ],
   "source": [
    "# Perform the ANOVA\n",
    "aov = stats.f_oneway(grp1,grp2,grp3,grp4,grp5,grp6)\n",
    "\n",
    "# Statistic :  F Value\n",
    "print(\"The f-value is {} and the p value is {}\".format(aov.statistic,aov.pvalue))"
   ]
  },
  {
   "cell_type": "code",
   "execution_count": 61,
   "metadata": {},
   "outputs": [
    {
     "data": {
      "text/plain": [
       "False"
      ]
     },
     "execution_count": 61,
     "metadata": {},
     "output_type": "execute_result"
    }
   ],
   "source": [
    "aov.pvalue > 0.05\n",
    "\n",
    "# Since p_value is less than 0.05 we reject the NULL Hypothesis"
   ]
  },
  {
   "cell_type": "markdown",
   "metadata": {},
   "source": [
    " Conclusion: consumers of various ages rated the design differently."
   ]
  },
  {
   "cell_type": "markdown",
   "metadata": {},
   "source": [
    "### 5. 5. A survey was conducted among 2800 customers on several demographic characteristics. Working status, sex, age, age-group, race, happiness, no. of child, marital status, educational qualifications, income group etc. had been captured for that purpose. (Data set: sample_survey.csv).\n",
    "### a. Is there any relationship in between labour force status with marital status?"
   ]
  },
  {
   "cell_type": "code",
   "execution_count": 45,
   "metadata": {},
   "outputs": [
    {
     "data": {
      "text/html": [
       "<div>\n",
       "<style scoped>\n",
       "    .dataframe tbody tr th:only-of-type {\n",
       "        vertical-align: middle;\n",
       "    }\n",
       "\n",
       "    .dataframe tbody tr th {\n",
       "        vertical-align: top;\n",
       "    }\n",
       "\n",
       "    .dataframe thead th {\n",
       "        text-align: right;\n",
       "    }\n",
       "</style>\n",
       "<table border=\"1\" class=\"dataframe\">\n",
       "  <thead>\n",
       "    <tr style=\"text-align: right;\">\n",
       "      <th></th>\n",
       "      <th>id</th>\n",
       "      <th>wrkstat</th>\n",
       "      <th>marital</th>\n",
       "      <th>childs</th>\n",
       "      <th>age</th>\n",
       "      <th>educ</th>\n",
       "      <th>paeduc</th>\n",
       "      <th>maeduc</th>\n",
       "      <th>speduc</th>\n",
       "      <th>degree</th>\n",
       "      <th>...</th>\n",
       "      <th>agecat</th>\n",
       "      <th>childcat</th>\n",
       "      <th>news1</th>\n",
       "      <th>news2</th>\n",
       "      <th>news3</th>\n",
       "      <th>news4</th>\n",
       "      <th>news5</th>\n",
       "      <th>car1</th>\n",
       "      <th>car2</th>\n",
       "      <th>car3</th>\n",
       "    </tr>\n",
       "  </thead>\n",
       "  <tbody>\n",
       "    <tr>\n",
       "      <td>0</td>\n",
       "      <td>1</td>\n",
       "      <td>Working full time</td>\n",
       "      <td>Divorced</td>\n",
       "      <td>2.0</td>\n",
       "      <td>60.0</td>\n",
       "      <td>12.0</td>\n",
       "      <td>12.0</td>\n",
       "      <td>12.0</td>\n",
       "      <td>NaN</td>\n",
       "      <td>High school</td>\n",
       "      <td>...</td>\n",
       "      <td>55 to 64</td>\n",
       "      <td>1-2</td>\n",
       "      <td>No</td>\n",
       "      <td>No</td>\n",
       "      <td>No</td>\n",
       "      <td>No</td>\n",
       "      <td>No</td>\n",
       "      <td>American</td>\n",
       "      <td>Japanese</td>\n",
       "      <td>Japanese</td>\n",
       "    </tr>\n",
       "    <tr>\n",
       "      <td>1</td>\n",
       "      <td>2</td>\n",
       "      <td>Working part-time</td>\n",
       "      <td>Never married</td>\n",
       "      <td>0.0</td>\n",
       "      <td>27.0</td>\n",
       "      <td>17.0</td>\n",
       "      <td>20.0</td>\n",
       "      <td>NaN</td>\n",
       "      <td>NaN</td>\n",
       "      <td>Junior college</td>\n",
       "      <td>...</td>\n",
       "      <td>25 to 34</td>\n",
       "      <td>None</td>\n",
       "      <td>No</td>\n",
       "      <td>No</td>\n",
       "      <td>Yes</td>\n",
       "      <td>No</td>\n",
       "      <td>No</td>\n",
       "      <td>American</td>\n",
       "      <td>German</td>\n",
       "      <td>Japanese</td>\n",
       "    </tr>\n",
       "    <tr>\n",
       "      <td>2</td>\n",
       "      <td>3</td>\n",
       "      <td>Working full time</td>\n",
       "      <td>Married</td>\n",
       "      <td>2.0</td>\n",
       "      <td>36.0</td>\n",
       "      <td>12.0</td>\n",
       "      <td>12.0</td>\n",
       "      <td>12.0</td>\n",
       "      <td>16.0</td>\n",
       "      <td>High school</td>\n",
       "      <td>...</td>\n",
       "      <td>35 to 44</td>\n",
       "      <td>1-2</td>\n",
       "      <td>No</td>\n",
       "      <td>No</td>\n",
       "      <td>No</td>\n",
       "      <td>Yes</td>\n",
       "      <td>Yes</td>\n",
       "      <td>American</td>\n",
       "      <td>American</td>\n",
       "      <td>NaN</td>\n",
       "    </tr>\n",
       "    <tr>\n",
       "      <td>3</td>\n",
       "      <td>4</td>\n",
       "      <td>Working full time</td>\n",
       "      <td>Never married</td>\n",
       "      <td>0.0</td>\n",
       "      <td>21.0</td>\n",
       "      <td>13.0</td>\n",
       "      <td>NaN</td>\n",
       "      <td>12.0</td>\n",
       "      <td>NaN</td>\n",
       "      <td>High school</td>\n",
       "      <td>...</td>\n",
       "      <td>Less than 25</td>\n",
       "      <td>None</td>\n",
       "      <td>No</td>\n",
       "      <td>No</td>\n",
       "      <td>No</td>\n",
       "      <td>Yes</td>\n",
       "      <td>Yes</td>\n",
       "      <td>American</td>\n",
       "      <td>Other</td>\n",
       "      <td>NaN</td>\n",
       "    </tr>\n",
       "    <tr>\n",
       "      <td>4</td>\n",
       "      <td>5</td>\n",
       "      <td>Working full time</td>\n",
       "      <td>Never married</td>\n",
       "      <td>0.0</td>\n",
       "      <td>35.0</td>\n",
       "      <td>16.0</td>\n",
       "      <td>NaN</td>\n",
       "      <td>12.0</td>\n",
       "      <td>NaN</td>\n",
       "      <td>Bachelor</td>\n",
       "      <td>...</td>\n",
       "      <td>35 to 44</td>\n",
       "      <td>None</td>\n",
       "      <td>No</td>\n",
       "      <td>No</td>\n",
       "      <td>No</td>\n",
       "      <td>No</td>\n",
       "      <td>No</td>\n",
       "      <td>American</td>\n",
       "      <td>American</td>\n",
       "      <td>Korean</td>\n",
       "    </tr>\n",
       "  </tbody>\n",
       "</table>\n",
       "<p>5 rows × 46 columns</p>\n",
       "</div>"
      ],
      "text/plain": [
       "   id            wrkstat        marital  childs   age  educ  paeduc  maeduc  \\\n",
       "0   1  Working full time       Divorced     2.0  60.0  12.0    12.0    12.0   \n",
       "1   2  Working part-time  Never married     0.0  27.0  17.0    20.0     NaN   \n",
       "2   3  Working full time        Married     2.0  36.0  12.0    12.0    12.0   \n",
       "3   4  Working full time  Never married     0.0  21.0  13.0     NaN    12.0   \n",
       "4   5  Working full time  Never married     0.0  35.0  16.0     NaN    12.0   \n",
       "\n",
       "   speduc          degree  ...        agecat childcat news1 news2  news3  \\\n",
       "0     NaN     High school  ...      55 to 64      1-2    No    No     No   \n",
       "1     NaN  Junior college  ...      25 to 34     None    No    No    Yes   \n",
       "2    16.0     High school  ...      35 to 44      1-2    No    No     No   \n",
       "3     NaN     High school  ...  Less than 25     None    No    No     No   \n",
       "4     NaN        Bachelor  ...      35 to 44     None    No    No     No   \n",
       "\n",
       "  news4 news5      car1      car2      car3  \n",
       "0    No    No  American  Japanese  Japanese  \n",
       "1    No    No  American    German  Japanese  \n",
       "2   Yes   Yes  American  American       NaN  \n",
       "3   Yes   Yes  American     Other       NaN  \n",
       "4    No    No  American  American    Korean  \n",
       "\n",
       "[5 rows x 46 columns]"
      ]
     },
     "execution_count": 45,
     "metadata": {},
     "output_type": "execute_result"
    }
   ],
   "source": [
    "survey = pd.read_csv('C:/Python/Class/Exercise/Exercise/7. Basic Stats - Case Study-1/sample_survey.csv')\n",
    "survey.head()"
   ]
  },
  {
   "cell_type": "raw",
   "metadata": {},
   "source": [
    "labour status : Categorical\n",
    "marital status : Categorical\n",
    "    \n",
    "as both variable are categorical variables and we have to find is there any relation betwen them. \n",
    "So we will perform chi square test\n",
    "\n",
    "H0 : Observed == Expected (No relation between labour status and marital status)\n",
    "H1 : Observed != Expected (There is a realtionship between labour status and marital status)"
   ]
  },
  {
   "cell_type": "code",
   "execution_count": 63,
   "metadata": {},
   "outputs": [
    {
     "data": {
      "text/html": [
       "<div>\n",
       "<style scoped>\n",
       "    .dataframe tbody tr th:only-of-type {\n",
       "        vertical-align: middle;\n",
       "    }\n",
       "\n",
       "    .dataframe tbody tr th {\n",
       "        vertical-align: top;\n",
       "    }\n",
       "\n",
       "    .dataframe thead th {\n",
       "        text-align: right;\n",
       "    }\n",
       "</style>\n",
       "<table border=\"1\" class=\"dataframe\">\n",
       "  <thead>\n",
       "    <tr style=\"text-align: right;\">\n",
       "      <th>marital</th>\n",
       "      <th>Divorced</th>\n",
       "      <th>Married</th>\n",
       "      <th>Never married</th>\n",
       "      <th>Separated</th>\n",
       "      <th>Widowed</th>\n",
       "      <th>All</th>\n",
       "    </tr>\n",
       "    <tr>\n",
       "      <th>wrkstat</th>\n",
       "      <th></th>\n",
       "      <th></th>\n",
       "      <th></th>\n",
       "      <th></th>\n",
       "      <th></th>\n",
       "      <th></th>\n",
       "    </tr>\n",
       "  </thead>\n",
       "  <tbody>\n",
       "    <tr>\n",
       "      <td>Keeping house</td>\n",
       "      <td>25</td>\n",
       "      <td>200</td>\n",
       "      <td>35</td>\n",
       "      <td>13</td>\n",
       "      <td>55</td>\n",
       "      <td>328</td>\n",
       "    </tr>\n",
       "    <tr>\n",
       "      <td>Other</td>\n",
       "      <td>12</td>\n",
       "      <td>16</td>\n",
       "      <td>14</td>\n",
       "      <td>4</td>\n",
       "      <td>8</td>\n",
       "      <td>54</td>\n",
       "    </tr>\n",
       "    <tr>\n",
       "      <td>Retired</td>\n",
       "      <td>53</td>\n",
       "      <td>168</td>\n",
       "      <td>17</td>\n",
       "      <td>6</td>\n",
       "      <td>150</td>\n",
       "      <td>394</td>\n",
       "    </tr>\n",
       "    <tr>\n",
       "      <td>School</td>\n",
       "      <td>7</td>\n",
       "      <td>9</td>\n",
       "      <td>60</td>\n",
       "      <td>2</td>\n",
       "      <td>1</td>\n",
       "      <td>79</td>\n",
       "    </tr>\n",
       "    <tr>\n",
       "      <td>Temporarily not working</td>\n",
       "      <td>9</td>\n",
       "      <td>23</td>\n",
       "      <td>11</td>\n",
       "      <td>1</td>\n",
       "      <td>2</td>\n",
       "      <td>46</td>\n",
       "    </tr>\n",
       "    <tr>\n",
       "      <td>Unemployed, laid off</td>\n",
       "      <td>10</td>\n",
       "      <td>13</td>\n",
       "      <td>32</td>\n",
       "      <td>0</td>\n",
       "      <td>3</td>\n",
       "      <td>58</td>\n",
       "    </tr>\n",
       "    <tr>\n",
       "      <td>Working full time</td>\n",
       "      <td>295</td>\n",
       "      <td>778</td>\n",
       "      <td>392</td>\n",
       "      <td>58</td>\n",
       "      <td>44</td>\n",
       "      <td>1567</td>\n",
       "    </tr>\n",
       "    <tr>\n",
       "      <td>Working part-time</td>\n",
       "      <td>35</td>\n",
       "      <td>138</td>\n",
       "      <td>102</td>\n",
       "      <td>9</td>\n",
       "      <td>20</td>\n",
       "      <td>304</td>\n",
       "    </tr>\n",
       "    <tr>\n",
       "      <td>All</td>\n",
       "      <td>446</td>\n",
       "      <td>1345</td>\n",
       "      <td>663</td>\n",
       "      <td>93</td>\n",
       "      <td>283</td>\n",
       "      <td>2830</td>\n",
       "    </tr>\n",
       "  </tbody>\n",
       "</table>\n",
       "</div>"
      ],
      "text/plain": [
       "marital                  Divorced  Married  Never married  Separated  Widowed  \\\n",
       "wrkstat                                                                         \n",
       "Keeping house                  25      200             35         13       55   \n",
       "Other                          12       16             14          4        8   \n",
       "Retired                        53      168             17          6      150   \n",
       "School                          7        9             60          2        1   \n",
       "Temporarily not working         9       23             11          1        2   \n",
       "Unemployed, laid off           10       13             32          0        3   \n",
       "Working full time             295      778            392         58       44   \n",
       "Working part-time              35      138            102          9       20   \n",
       "All                           446     1345            663         93      283   \n",
       "\n",
       "marital                   All  \n",
       "wrkstat                        \n",
       "Keeping house             328  \n",
       "Other                      54  \n",
       "Retired                   394  \n",
       "School                     79  \n",
       "Temporarily not working    46  \n",
       "Unemployed, laid off       58  \n",
       "Working full time        1567  \n",
       "Working part-time         304  \n",
       "All                      2830  "
      ]
     },
     "execution_count": 63,
     "metadata": {},
     "output_type": "execute_result"
    }
   ],
   "source": [
    "cat_seg_xtab = pd.crosstab(survey.wrkstat, survey.marital, margins = True)\n",
    "cat_seg_xtab "
   ]
  },
  {
   "cell_type": "code",
   "execution_count": 64,
   "metadata": {},
   "outputs": [
    {
     "name": "stdout",
     "output_type": "stream",
     "text": [
      "The chi square stat is 729.2421426572284 and the p value is 1.820339965538765e-127\n"
     ]
    }
   ],
   "source": [
    "x2test = stats.chi2_contingency(observed= cat_seg_xtab)\n",
    "print(\"The chi square stat is {} and the p value is {}\".format(x2test[0],x2test[1]))"
   ]
  },
  {
   "cell_type": "code",
   "execution_count": 65,
   "metadata": {},
   "outputs": [
    {
     "data": {
      "text/plain": [
       "False"
      ]
     },
     "execution_count": 65,
     "metadata": {},
     "output_type": "execute_result"
    }
   ],
   "source": [
    "x2test[1] > 0.05\n",
    "\n",
    "#Since p_value is less than 0.05 we reject the null hypothesis. "
   ]
  },
  {
   "cell_type": "markdown",
   "metadata": {},
   "source": [
    "Conclusion : There is a realtion between labour force status and marital status"
   ]
  },
  {
   "cell_type": "markdown",
   "metadata": {},
   "source": [
    "### b. Do you think educational qualification is somehow controlling the marital status?"
   ]
  },
  {
   "cell_type": "markdown",
   "metadata": {},
   "source": [
    "degree : Categorical\n",
    "marital status : Categorical\n",
    "    \n",
    "as both variable are categorical variables and we have to find is there any relation betwen them. \n",
    "So we will perform chi square test\n",
    "\n",
    "H0 : Observed == Expected (No relation between degree and marital status)\n",
    "H1 : Observed != Expected (There is a realtionship between degree and marital status)"
   ]
  },
  {
   "cell_type": "code",
   "execution_count": 66,
   "metadata": {},
   "outputs": [
    {
     "data": {
      "text/html": [
       "<div>\n",
       "<style scoped>\n",
       "    .dataframe tbody tr th:only-of-type {\n",
       "        vertical-align: middle;\n",
       "    }\n",
       "\n",
       "    .dataframe tbody tr th {\n",
       "        vertical-align: top;\n",
       "    }\n",
       "\n",
       "    .dataframe thead th {\n",
       "        text-align: right;\n",
       "    }\n",
       "</style>\n",
       "<table border=\"1\" class=\"dataframe\">\n",
       "  <thead>\n",
       "    <tr style=\"text-align: right;\">\n",
       "      <th>marital</th>\n",
       "      <th>Divorced</th>\n",
       "      <th>Married</th>\n",
       "      <th>Never married</th>\n",
       "      <th>Separated</th>\n",
       "      <th>Widowed</th>\n",
       "      <th>All</th>\n",
       "    </tr>\n",
       "    <tr>\n",
       "      <th>degree</th>\n",
       "      <th></th>\n",
       "      <th></th>\n",
       "      <th></th>\n",
       "      <th></th>\n",
       "      <th></th>\n",
       "      <th></th>\n",
       "    </tr>\n",
       "  </thead>\n",
       "  <tbody>\n",
       "    <tr>\n",
       "      <td>Bachelor</td>\n",
       "      <td>58</td>\n",
       "      <td>251</td>\n",
       "      <td>129</td>\n",
       "      <td>12</td>\n",
       "      <td>28</td>\n",
       "      <td>478</td>\n",
       "    </tr>\n",
       "    <tr>\n",
       "      <td>Graduate</td>\n",
       "      <td>29</td>\n",
       "      <td>123</td>\n",
       "      <td>41</td>\n",
       "      <td>3</td>\n",
       "      <td>9</td>\n",
       "      <td>205</td>\n",
       "    </tr>\n",
       "    <tr>\n",
       "      <td>High school</td>\n",
       "      <td>241</td>\n",
       "      <td>686</td>\n",
       "      <td>367</td>\n",
       "      <td>58</td>\n",
       "      <td>148</td>\n",
       "      <td>1500</td>\n",
       "    </tr>\n",
       "    <tr>\n",
       "      <td>Junior college</td>\n",
       "      <td>45</td>\n",
       "      <td>108</td>\n",
       "      <td>46</td>\n",
       "      <td>3</td>\n",
       "      <td>6</td>\n",
       "      <td>208</td>\n",
       "    </tr>\n",
       "    <tr>\n",
       "      <td>LT High school</td>\n",
       "      <td>70</td>\n",
       "      <td>174</td>\n",
       "      <td>77</td>\n",
       "      <td>17</td>\n",
       "      <td>92</td>\n",
       "      <td>430</td>\n",
       "    </tr>\n",
       "    <tr>\n",
       "      <td>All</td>\n",
       "      <td>443</td>\n",
       "      <td>1342</td>\n",
       "      <td>660</td>\n",
       "      <td>93</td>\n",
       "      <td>283</td>\n",
       "      <td>2821</td>\n",
       "    </tr>\n",
       "  </tbody>\n",
       "</table>\n",
       "</div>"
      ],
      "text/plain": [
       "marital         Divorced  Married  Never married  Separated  Widowed   All\n",
       "degree                                                                    \n",
       "Bachelor              58      251            129         12       28   478\n",
       "Graduate              29      123             41          3        9   205\n",
       "High school          241      686            367         58      148  1500\n",
       "Junior college        45      108             46          3        6   208\n",
       "LT High school        70      174             77         17       92   430\n",
       "All                  443     1342            660         93      283  2821"
      ]
     },
     "execution_count": 66,
     "metadata": {},
     "output_type": "execute_result"
    }
   ],
   "source": [
    "edu_cat_seg_xtab = pd.crosstab(survey.degree, survey.marital, margins = True)\n",
    "edu_cat_seg_xtab "
   ]
  },
  {
   "cell_type": "code",
   "execution_count": 67,
   "metadata": {},
   "outputs": [
    {
     "name": "stdout",
     "output_type": "stream",
     "text": [
      "The chi square stat is 122.68449020508541 and the p value is 7.424404099753273e-15\n"
     ]
    }
   ],
   "source": [
    "x2test = stats.chi2_contingency(observed= edu_cat_seg_xtab)\n",
    "print(\"The chi square stat is {} and the p value is {}\".format(x2test[0],x2test[1]))"
   ]
  },
  {
   "cell_type": "code",
   "execution_count": 68,
   "metadata": {},
   "outputs": [
    {
     "data": {
      "text/plain": [
       "False"
      ]
     },
     "execution_count": 68,
     "metadata": {},
     "output_type": "execute_result"
    }
   ],
   "source": [
    "x2test[1] > 0.05\n",
    "\n",
    "#Since p_value is less than 0.05 we reject the null hypothesis. "
   ]
  },
  {
   "cell_type": "markdown",
   "metadata": {},
   "source": [
    "Conclusion: educational qualification is somehow controlling the marital status"
   ]
  },
  {
   "cell_type": "markdown",
   "metadata": {},
   "source": [
    "### c. Is happiness is driven by earnings or marital status?"
   ]
  },
  {
   "cell_type": "raw",
   "metadata": {},
   "source": [
    "happiness : Categorical\n",
    "degree : Categorical\n",
    "marital status : Categorical\n",
    "    \n",
    "As we need to check if one categorical variable influences other categorical variable,So we will perform chi square test\n",
    "\n",
    "We wil be performing 2 test.\n",
    "\n",
    "Test 1: Happiness and Earning\n",
    "\n",
    "H0 : Observed == Expected (No relation between happiness and earning)\n",
    "H1 : Observed != Expected (There is a realtionship between happiness and earning)\n",
    "\n",
    "Test 2 : Happiness and marital status\n",
    "\n",
    "H0 : Observed == Expected (No relation between happiness and marital status)\n",
    "H1 : Observed != Expected (There is a realtionship between happiness and marital status)"
   ]
  },
  {
   "cell_type": "markdown",
   "metadata": {},
   "source": [
    "#### Test 1"
   ]
  },
  {
   "cell_type": "code",
   "execution_count": 79,
   "metadata": {},
   "outputs": [
    {
     "data": {
      "text/html": [
       "<div>\n",
       "<style scoped>\n",
       "    .dataframe tbody tr th:only-of-type {\n",
       "        vertical-align: middle;\n",
       "    }\n",
       "\n",
       "    .dataframe tbody tr th {\n",
       "        vertical-align: top;\n",
       "    }\n",
       "\n",
       "    .dataframe thead th {\n",
       "        text-align: right;\n",
       "    }\n",
       "</style>\n",
       "<table border=\"1\" class=\"dataframe\">\n",
       "  <thead>\n",
       "    <tr style=\"text-align: right;\">\n",
       "      <th>income</th>\n",
       "      <th>$1000 TO 2999</th>\n",
       "      <th>$10000 - 14999</th>\n",
       "      <th>$15000 - 19999</th>\n",
       "      <th>$20000 - 24999</th>\n",
       "      <th>$25000 or more</th>\n",
       "      <th>$3000 TO 3999</th>\n",
       "      <th>$4000 TO 4999</th>\n",
       "      <th>$5000 TO 5999</th>\n",
       "      <th>$6000 TO 6999</th>\n",
       "      <th>$7000 TO 7999</th>\n",
       "      <th>$8000 TO 9999</th>\n",
       "      <th>LT $1000</th>\n",
       "      <th>All</th>\n",
       "    </tr>\n",
       "    <tr>\n",
       "      <th>happy</th>\n",
       "      <th></th>\n",
       "      <th></th>\n",
       "      <th></th>\n",
       "      <th></th>\n",
       "      <th></th>\n",
       "      <th></th>\n",
       "      <th></th>\n",
       "      <th></th>\n",
       "      <th></th>\n",
       "      <th></th>\n",
       "      <th></th>\n",
       "      <th></th>\n",
       "      <th></th>\n",
       "    </tr>\n",
       "  </thead>\n",
       "  <tbody>\n",
       "    <tr>\n",
       "      <td>Not too happy</td>\n",
       "      <td>7</td>\n",
       "      <td>39</td>\n",
       "      <td>33</td>\n",
       "      <td>40</td>\n",
       "      <td>113</td>\n",
       "      <td>9</td>\n",
       "      <td>9</td>\n",
       "      <td>6</td>\n",
       "      <td>14</td>\n",
       "      <td>12</td>\n",
       "      <td>9</td>\n",
       "      <td>11</td>\n",
       "      <td>302</td>\n",
       "    </tr>\n",
       "    <tr>\n",
       "      <td>Pretty happy</td>\n",
       "      <td>20</td>\n",
       "      <td>107</td>\n",
       "      <td>119</td>\n",
       "      <td>155</td>\n",
       "      <td>888</td>\n",
       "      <td>11</td>\n",
       "      <td>13</td>\n",
       "      <td>18</td>\n",
       "      <td>13</td>\n",
       "      <td>21</td>\n",
       "      <td>30</td>\n",
       "      <td>13</td>\n",
       "      <td>1408</td>\n",
       "    </tr>\n",
       "    <tr>\n",
       "      <td>Very happy</td>\n",
       "      <td>5</td>\n",
       "      <td>44</td>\n",
       "      <td>26</td>\n",
       "      <td>50</td>\n",
       "      <td>571</td>\n",
       "      <td>4</td>\n",
       "      <td>10</td>\n",
       "      <td>11</td>\n",
       "      <td>6</td>\n",
       "      <td>14</td>\n",
       "      <td>19</td>\n",
       "      <td>11</td>\n",
       "      <td>771</td>\n",
       "    </tr>\n",
       "    <tr>\n",
       "      <td>All</td>\n",
       "      <td>32</td>\n",
       "      <td>190</td>\n",
       "      <td>178</td>\n",
       "      <td>245</td>\n",
       "      <td>1572</td>\n",
       "      <td>24</td>\n",
       "      <td>32</td>\n",
       "      <td>35</td>\n",
       "      <td>33</td>\n",
       "      <td>47</td>\n",
       "      <td>58</td>\n",
       "      <td>35</td>\n",
       "      <td>2481</td>\n",
       "    </tr>\n",
       "  </tbody>\n",
       "</table>\n",
       "</div>"
      ],
      "text/plain": [
       "income         $1000 TO 2999  $10000 - 14999  $15000 - 19999  $20000 - 24999  \\\n",
       "happy                                                                          \n",
       "Not too happy              7              39              33              40   \n",
       "Pretty happy              20             107             119             155   \n",
       "Very happy                 5              44              26              50   \n",
       "All                       32             190             178             245   \n",
       "\n",
       "income         $25000 or more  $3000 TO 3999  $4000 TO 4999  $5000 TO 5999  \\\n",
       "happy                                                                        \n",
       "Not too happy             113              9              9              6   \n",
       "Pretty happy              888             11             13             18   \n",
       "Very happy                571              4             10             11   \n",
       "All                      1572             24             32             35   \n",
       "\n",
       "income         $6000 TO 6999  $7000 TO 7999  $8000 TO 9999  LT $1000   All  \n",
       "happy                                                                       \n",
       "Not too happy             14             12              9        11   302  \n",
       "Pretty happy              13             21             30        13  1408  \n",
       "Very happy                 6             14             19        11   771  \n",
       "All                       33             47             58        35  2481  "
      ]
     },
     "execution_count": 79,
     "metadata": {},
     "output_type": "execute_result"
    }
   ],
   "source": [
    "earning_hap_xtab = pd.crosstab(survey.happy, survey.income, margins = True)\n",
    "earning_hap_xtab "
   ]
  },
  {
   "cell_type": "code",
   "execution_count": 84,
   "metadata": {},
   "outputs": [
    {
     "name": "stdout",
     "output_type": "stream",
     "text": [
      "The chi square stat is 178.95053061216427 and the p value is 7.234749067043371e-21\n"
     ]
    }
   ],
   "source": [
    "x2test1 = stats.chi2_contingency(observed= earning_hap_xtab)\n",
    "print(\"The chi square stat is {} and the p value is {}\".format(x2test1[0],x2test1[1]))"
   ]
  },
  {
   "cell_type": "code",
   "execution_count": 85,
   "metadata": {},
   "outputs": [
    {
     "data": {
      "text/plain": [
       "False"
      ]
     },
     "execution_count": 85,
     "metadata": {},
     "output_type": "execute_result"
    }
   ],
   "source": [
    "x2test[1] > 0.05"
   ]
  },
  {
   "cell_type": "markdown",
   "metadata": {},
   "source": [
    "Since pvalue is less, we reject the NULL Hypothesis which means happiness is influenced by earning."
   ]
  },
  {
   "cell_type": "markdown",
   "metadata": {},
   "source": [
    "#### Test 2"
   ]
  },
  {
   "cell_type": "code",
   "execution_count": 82,
   "metadata": {},
   "outputs": [
    {
     "data": {
      "text/html": [
       "<div>\n",
       "<style scoped>\n",
       "    .dataframe tbody tr th:only-of-type {\n",
       "        vertical-align: middle;\n",
       "    }\n",
       "\n",
       "    .dataframe tbody tr th {\n",
       "        vertical-align: top;\n",
       "    }\n",
       "\n",
       "    .dataframe thead th {\n",
       "        text-align: right;\n",
       "    }\n",
       "</style>\n",
       "<table border=\"1\" class=\"dataframe\">\n",
       "  <thead>\n",
       "    <tr style=\"text-align: right;\">\n",
       "      <th>marital</th>\n",
       "      <th>Divorced</th>\n",
       "      <th>Married</th>\n",
       "      <th>Never married</th>\n",
       "      <th>Separated</th>\n",
       "      <th>Widowed</th>\n",
       "      <th>All</th>\n",
       "    </tr>\n",
       "    <tr>\n",
       "      <th>happy</th>\n",
       "      <th></th>\n",
       "      <th></th>\n",
       "      <th></th>\n",
       "      <th></th>\n",
       "      <th></th>\n",
       "      <th></th>\n",
       "    </tr>\n",
       "  </thead>\n",
       "  <tbody>\n",
       "    <tr>\n",
       "      <td>Not too happy</td>\n",
       "      <td>72</td>\n",
       "      <td>71</td>\n",
       "      <td>108</td>\n",
       "      <td>30</td>\n",
       "      <td>59</td>\n",
       "      <td>340</td>\n",
       "    </tr>\n",
       "    <tr>\n",
       "      <td>Pretty happy</td>\n",
       "      <td>278</td>\n",
       "      <td>684</td>\n",
       "      <td>426</td>\n",
       "      <td>49</td>\n",
       "      <td>137</td>\n",
       "      <td>1574</td>\n",
       "    </tr>\n",
       "    <tr>\n",
       "      <td>Very happy</td>\n",
       "      <td>93</td>\n",
       "      <td>582</td>\n",
       "      <td>120</td>\n",
       "      <td>13</td>\n",
       "      <td>83</td>\n",
       "      <td>891</td>\n",
       "    </tr>\n",
       "    <tr>\n",
       "      <td>All</td>\n",
       "      <td>443</td>\n",
       "      <td>1337</td>\n",
       "      <td>654</td>\n",
       "      <td>92</td>\n",
       "      <td>279</td>\n",
       "      <td>2805</td>\n",
       "    </tr>\n",
       "  </tbody>\n",
       "</table>\n",
       "</div>"
      ],
      "text/plain": [
       "marital        Divorced  Married  Never married  Separated  Widowed   All\n",
       "happy                                                                    \n",
       "Not too happy        72       71            108         30       59   340\n",
       "Pretty happy        278      684            426         49      137  1574\n",
       "Very happy           93      582            120         13       83   891\n",
       "All                 443     1337            654         92      279  2805"
      ]
     },
     "execution_count": 82,
     "metadata": {},
     "output_type": "execute_result"
    }
   ],
   "source": [
    "marital_hap_xtab = pd.crosstab(survey.happy, survey.marital, margins = True)\n",
    "marital_hap_xtab "
   ]
  },
  {
   "cell_type": "code",
   "execution_count": 86,
   "metadata": {},
   "outputs": [
    {
     "name": "stdout",
     "output_type": "stream",
     "text": [
      "The chi square stat is 260.68943894182826 and the p value is 7.762777322980048e-47\n"
     ]
    }
   ],
   "source": [
    "x2test2 = stats.chi2_contingency(observed= marital_hap_xtab)\n",
    "print(\"The chi square stat is {} and the p value is {}\".format(x2test2[0],x2test2[1]))"
   ]
  },
  {
   "cell_type": "code",
   "execution_count": 87,
   "metadata": {},
   "outputs": [
    {
     "data": {
      "text/plain": [
       "False"
      ]
     },
     "execution_count": 87,
     "metadata": {},
     "output_type": "execute_result"
    }
   ],
   "source": [
    "x2test[1] > 0.05"
   ]
  },
  {
   "cell_type": "markdown",
   "metadata": {},
   "source": [
    "Since pvalue is less, we reject the NULL Hypothesis which means happiness is influenced by marital status."
   ]
  },
  {
   "cell_type": "markdown",
   "metadata": {},
   "source": [
    "Conclusion : As seen above, both earning and marital status influence happiness.\n",
    "But chi_square score for (happiness w.r.t to marital status) i.e. 260.68 is more than chi_square score for (happiness w.r.t to marital earnings) i.e 178.95, therefore we can conclude that happiness is more driven by marital status."
   ]
  }
 ],
 "metadata": {
  "kernelspec": {
   "display_name": "Python 3",
   "language": "python",
   "name": "python3"
  },
  "language_info": {
   "codemirror_mode": {
    "name": "ipython",
    "version": 3
   },
   "file_extension": ".py",
   "mimetype": "text/x-python",
   "name": "python",
   "nbconvert_exporter": "python",
   "pygments_lexer": "ipython3",
   "version": "3.7.4"
  }
 },
 "nbformat": 4,
 "nbformat_minor": 2
}
